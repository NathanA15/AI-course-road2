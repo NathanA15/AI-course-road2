{
  "nbformat": 4,
  "nbformat_minor": 0,
  "metadata": {
    "colab": {
      "provenance": [],
      "gpuType": "T4"
    },
    "kernelspec": {
      "name": "python3",
      "display_name": "Python 3"
    },
    "language_info": {
      "name": "python"
    },
    "accelerator": "GPU"
  },
  "cells": [
    {
      "cell_type": "code",
      "source": [
        "!pip install keras\n"
      ],
      "metadata": {
        "colab": {
          "base_uri": "https://localhost:8080/"
        },
        "id": "JCCoHk4Aox6V",
        "outputId": "5de4d0c5-4aee-467c-976f-49f1962d6b0d"
      },
      "execution_count": 2,
      "outputs": [
        {
          "output_type": "stream",
          "name": "stdout",
          "text": [
            "Requirement already satisfied: keras in /usr/local/lib/python3.10/dist-packages (2.14.0)\n"
          ]
        }
      ]
    },
    {
      "cell_type": "code",
      "execution_count": 1,
      "metadata": {
        "colab": {
          "base_uri": "https://localhost:8080/"
        },
        "id": "j1yZKpYTnPFa",
        "outputId": "fb4a49ae-5f1e-4817-84dc-2fbdb21cd6fa"
      },
      "outputs": [
        {
          "output_type": "stream",
          "name": "stdout",
          "text": [
            "Celsius\t\tFahrenheit\n",
            "------------------------\n",
            "4.98°C\t\t40.97°F\n",
            "28.03°C\t\t82.45°F\n",
            "19.28°C\t\t66.70°F\n",
            "13.95°C\t\t57.10°F\n",
            "-3.76°C\t\t25.23°F\n",
            "-3.76°C\t\t25.23°F\n",
            "-7.68°C\t\t18.18°F\n",
            "24.65°C\t\t76.36°F\n",
            "14.04°C\t\t57.28°F\n",
            "18.32°C\t\t64.98°F\n"
          ]
        }
      ],
      "source": [
        "import numpy as np\n",
        "\n",
        "# Set a seed for reproducibility\n",
        "np.random.seed(42)\n",
        "\n",
        "# Generate a dataset with 10 random temperatures in Celsius\n",
        "celsius_temperatures = np.random.uniform(low=-10, high=30, size=(10, 1))\n",
        "\n",
        "# Convert Celsius to Fahrenheit\n",
        "fahrenheit_labels = (celsius_temperatures * 9/5) + 32\n",
        "\n",
        "# Display the dataset\n",
        "dataset = np.concatenate((celsius_temperatures, fahrenheit_labels), axis=1)\n",
        "print(\"Celsius\\t\\tFahrenheit\")\n",
        "print(\"------------------------\")\n",
        "for celsius, fahrenheit in dataset:\n",
        "    print(f\"{celsius:.2f}°C\\t\\t{fahrenheit:.2f}°F\")\n"
      ]
    },
    {
      "cell_type": "code",
      "source": [
        "import numpy as np\n",
        "from keras.models import Sequential\n",
        "from keras.layers import Dense\n",
        "\n",
        "# Set a seed for reproducibility\n",
        "np.random.seed(42)\n",
        "\n",
        "# Generate a dataset with 10 random temperatures in Celsius\n",
        "celsius_temperatures = np.random.uniform(low=-10, high=30, size=(10, 1))\n",
        "\n",
        "# Convert Celsius to Fahrenheit\n",
        "fahrenheit_labels = (celsius_temperatures * 9/5) + 32\n",
        "\n",
        "# Build a simple neural network with one neuron\n",
        "model = Sequential()\n",
        "model.add(Dense(units=1, input_dim=1, use_bias=True))  # One neuron with bias\n",
        "model.compile(optimizer='adam', loss='mean_squared_error')  # Adam optimizer, mean squared error loss\n",
        "\n",
        "# Display the model architecture\n",
        "model.summary()\n",
        "\n",
        "# Custom training loop\n",
        "epochs = 800\n",
        "batch_size = 2\n",
        "\n",
        "for epoch in range(epochs):\n",
        "    for i in range(len(celsius_temperatures)):\n",
        "        x_batch = celsius_temperatures[i:i+batch_size]\n",
        "        y_batch = fahrenheit_labels[i:i+batch_size]\n",
        "        model.train_on_batch(x_batch, y_batch)\n",
        "\n",
        "# Make predictions\n",
        "predictions = model.predict(celsius_temperatures)\n",
        "\n",
        "# Calculate mean squared error\n",
        "mse = np.mean(np.square(predictions - fahrenheit_labels))\n",
        "print(f\"Mean Squared Error: {mse}\")\n"
      ],
      "metadata": {
        "colab": {
          "base_uri": "https://localhost:8080/"
        },
        "id": "UKTHkJ8FqeK9",
        "outputId": "6a4148e3-92ec-4f71-bc53-55e7c792a06c"
      },
      "execution_count": 2,
      "outputs": [
        {
          "output_type": "stream",
          "name": "stdout",
          "text": [
            "Model: \"sequential_1\"\n",
            "_________________________________________________________________\n",
            " Layer (type)                Output Shape              Param #   \n",
            "=================================================================\n",
            " dense_1 (Dense)             (None, 1)                 2         \n",
            "                                                                 \n",
            "=================================================================\n",
            "Total params: 2 (8.00 Byte)\n",
            "Trainable params: 2 (8.00 Byte)\n",
            "Non-trainable params: 0 (0.00 Byte)\n",
            "_________________________________________________________________\n",
            "1/1 [==============================] - 0s 36ms/step\n",
            "Mean Squared Error: 364.7071266549521\n"
          ]
        }
      ]
    },
    {
      "cell_type": "code",
      "source": [
        "import numpy as np\n",
        "import matplotlib.pyplot as plt\n",
        "from keras.optimizers import Adam\n",
        "\n",
        "# Set a seed for reproducibility\n",
        "np.random.seed(42)\n",
        "\n",
        "# Generate a dataset with 10 random temperatures in Celsius\n",
        "celsius_temperatures = np.random.uniform(low=-10, high=30, size=(10, 1))\n",
        "\n",
        "# Convert Celsius to Fahrenheit\n",
        "fahrenheit_labels = (celsius_temperatures * 9/5) + 32\n",
        "\n",
        "# Build a simple neural network with one neuron\n",
        "model = Sequential()\n",
        "model.add(Dense(units=1, input_dim=1, use_bias=True))  # One neuron with bias\n",
        "optimizer = Adam(learning_rate=0.01)  # Specify the learning rate\n",
        "model.compile(optimizer=optimizer, loss='mean_squared_error')  # Adam optimizer, mean squared error loss\n",
        "\n",
        "# Lists to store training history\n",
        "history_mse = []\n",
        "\n",
        "# Custom training loop\n",
        "epochs = 900\n",
        "batch_size = 3\n",
        "\n",
        "for epoch in range(epochs):\n",
        "    for i in range(len(celsius_temperatures)):\n",
        "        x_batch = celsius_temperatures[i:i+batch_size]\n",
        "        y_batch = fahrenheit_labels[i:i+batch_size]\n",
        "        mse = model.train_on_batch(x_batch, y_batch)\n",
        "        history_mse.append(mse)\n",
        "\n",
        "# Plotting the learning curve\n",
        "plt.figure(figsize=(10, 6))\n",
        "plt.plot(range(1, len(history_mse) + 1), history_mse, label='Mean Squared Error')\n",
        "plt.title('Learning Curve (Learning Rate = 0.01)')\n",
        "plt.xlabel('Epoch')\n",
        "plt.ylabel('Mean Squared Error')\n",
        "plt.legend()\n",
        "plt.show()\n"
      ],
      "metadata": {
        "colab": {
          "base_uri": "https://localhost:8080/",
          "height": 564
        },
        "id": "HFF5dBJGwErL",
        "outputId": "fc630cff-5860-41ef-c5ce-1448704f495f"
      },
      "execution_count": 10,
      "outputs": [
        {
          "output_type": "display_data",
          "data": {
            "text/plain": [
              "<Figure size 1000x600 with 1 Axes>"
            ],
            "image/png": "[encoded data removed]"
          },
          "metadata": {}
        }
      ]
    },
    {
      "cell_type": "code",
      "source": [
        "import numpy as np\n",
        "\n",
        "# Generate new Celsius temperatures for prediction\n",
        "new_celsius_temperatures = np.array([[15.0], [20.0], [25.0], [12.3], [36.2]])\n",
        "\n",
        "# Convert Celsius to Fahrenheit for the new temperatures\n",
        "actual_fahrenheit_values = (new_celsius_temperatures * 9/5) + 32\n",
        "\n",
        "# Use the trained model to make predictions\n",
        "predicted_fahrenheit_values = model.predict(new_celsius_temperatures)\n",
        "\n",
        "# Display the results\n",
        "print(\"Celsius\\t\\tActual Fahrenheit\\tPredicted Fahrenheit\")\n",
        "print(\"-------------------------------------------------\")\n",
        "for celsius, actual, predicted in zip(new_celsius_temperatures, actual_fahrenheit_values, predicted_fahrenheit_values):\n",
        "    print(f\"{celsius[0]:.2f}°C\\t\\t{actual[0]:.2f}°F\\t\\t{predicted[0]:.2f}°F\")\n"
      ],
      "metadata": {
        "colab": {
          "base_uri": "https://localhost:8080/"
        },
        "id": "r4NO0ISpu8BL",
        "outputId": "b6ecd4db-afe5-41fe-8e40-0151ebadb637"
      },
      "execution_count": 11,
      "outputs": [
        {
          "output_type": "stream",
          "name": "stdout",
          "text": [
            "1/1 [==============================] - 0s 37ms/step\n",
            "Celsius\t\tActual Fahrenheit\tPredicted Fahrenheit\n",
            "-------------------------------------------------\n",
            "15.00°C\t\t59.00°F\t\t59.00°F\n",
            "20.00°C\t\t68.00°F\t\t68.00°F\n",
            "25.00°C\t\t77.00°F\t\t77.00°F\n",
            "12.30°C\t\t54.14°F\t\t54.14°F\n",
            "36.20°C\t\t97.16°F\t\t97.16°F\n"
          ]
        }
      ]
    },
    {
      "cell_type": "code",
      "source": [
        "# Get the weights and bias of the model\n",
        "weights, bias = model.layers[0].get_weights()\n",
        "\n",
        "# Display the weights and bias\n",
        "print(f\"Weight (w1): {weights[0][0]:.2f}\")\n",
        "print(f\"Bias (w0): {bias[0]:.2f}\")\n"
      ],
      "metadata": {
        "colab": {
          "base_uri": "https://localhost:8080/"
        },
        "id": "JqxBhWtSvQyA",
        "outputId": "72ead061-430a-44fa-ea67-f3dd014f84c6"
      },
      "execution_count": 12,
      "outputs": [
        {
          "output_type": "stream",
          "name": "stdout",
          "text": [
            "Weight (w1): 1.80\n",
            "Bias (w0): 32.00\n"
          ]
        }
      ]
    }
  ]
}